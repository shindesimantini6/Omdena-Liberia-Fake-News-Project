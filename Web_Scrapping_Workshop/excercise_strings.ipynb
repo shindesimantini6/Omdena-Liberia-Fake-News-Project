{
 "cells": [
  {
   "cell_type": "markdown",
   "metadata": {},
   "source": [
    "# Excercise:\n",
    "Getting to know useful python built-in **string methods**.\n",
    "\n",
    "Python has lots of built-in methods to help you deal with strings.\n",
    "Click <a href=\"https://www.w3schools.com/python/python_ref_string.asp\">here</a> if you want to check more of them."
   ]
  },
  {
   "cell_type": "markdown",
   "metadata": {},
   "source": [
    "**Q**: Which structured data source( e.g., files) have you worked so far in the bootcamp with?\n",
    "\n",
    "**A**: ..."
   ]
  },
  {
   "cell_type": "markdown",
   "metadata": {},
   "source": []
  },
  {
   "cell_type": "markdown",
   "metadata": {},
   "source": [
    "1. Read in the file **search_result.txt** with the python built-in function *[open](https://docs.python.org/3/library/functions.html#open)*"
   ]
  },
  {
   "cell_type": "code",
   "execution_count": 1,
   "metadata": {},
   "outputs": [],
   "source": [
    "with open(file=\"search_result.txt\", mode=...) as file:\n",
    "    text = file... # "
   ]
  },
  {
   "cell_type": "code",
   "execution_count": 8,
   "metadata": {},
   "outputs": [
    {
     "data": {
      "text/plain": [
       "'Data science is an inter-disciplinary field that uses \\nscientific methods, processes, algorithms and systems to extract\\nknowledge and insights from many structural and unstructured \\ndata. Data science is related to data mining, machine learning \\nand big data.\\n\\nData science is a \"concept to unify statistics, data analysis \\nand their related methods\" in order to \"understand and analyze \\nactual phenomena\" with data. It uses techniques and theories \\ndrawn from many fields within the context of mathematics, \\nstatistics, computer science, domain knowledge and information \\nscience. Turing award winner Jim Gray imagined data science as \\na \"fourth paradigm\" of science (empirical, theoretical, \\ncomputational and now data-driven) and asserted that \"everything \\nabout science is changing because of the impact of information \\ntechnology\" and the data deluge.\\n\\n<a href=\"/spice/830162/The+First+Collection+Spice/cinnamon+sumac+pepper\"></a></strong></td><td class=\"tal qx\"><strong><a href=\"/spice/22810907/The+Second+Collection/terragon+basil+curry\"></a></strong></td><td class=\"tal qx\"><strong><a href=\"/ingridients/530162/The+First/spaghetti+tomatoes\"></a>'"
      ]
     },
     "execution_count": 8,
     "metadata": {},
     "output_type": "execute_result"
    }
   ],
   "source": [
    "text"
   ]
  },
  {
   "cell_type": "markdown",
   "metadata": {},
   "source": [
    "The above text has been mostly scraped from wikipedia"
   ]
  },
  {
   "cell_type": "markdown",
   "metadata": {},
   "source": [
    "2. Get the first word by slicing the string text (*hint*: use the slicing operator [] on text)."
   ]
  },
  {
   "cell_type": "code",
   "execution_count": 11,
   "metadata": {},
   "outputs": [
    {
     "data": {
      "text/plain": [
       "'Data'"
      ]
     },
     "execution_count": 11,
     "metadata": {},
     "output_type": "execute_result"
    }
   ],
   "source": [
    "text..."
   ]
  },
  {
   "cell_type": "markdown",
   "metadata": {},
   "source": [
    "3. Check the existence of the word 'Data' in the text."
   ]
  },
  {
   "cell_type": "code",
   "execution_count": 6,
   "metadata": {},
   "outputs": [
    {
     "name": "stdout",
     "output_type": "stream",
     "text": [
      "The word Data is in the text\n"
     ]
    }
   ],
   "source": [
    "word = \"Data\"\n",
    "\n",
    "if ... in ...:\n",
    "    print(f\"The word {word} is in the text\")\n",
    "else:\n",
    "    print(f\"The word {word} is not in the text\")"
   ]
  },
  {
   "cell_type": "markdown",
   "metadata": {},
   "source": [
    "4. Clean the text:\n",
    "    + Replace the break-line **\\n** with one space **\" \"** (an empty string would be **\"\"**)"
   ]
  },
  {
   "cell_type": "code",
   "execution_count": 21,
   "metadata": {},
   "outputs": [
    {
     "data": {
      "text/plain": [
       "'Data science is an inter-disciplinary field that uses  scientific methods, processes, algorithms and systems to extract knowledge and insights from many structural and unstructured  data. Data science is related to data mining, machine learning  and big data.  Data science is a \"concept to unify statistics, data analysis  and their related methods\" in order to \"understand and analyze  actual phenomena\" with data. It uses techniques and theories  drawn from many fields within the context of mathematics,  statistics, computer science, domain knowledge and information  science. Turing award winner Jim Gray imagined data science as  a \"fourth paradigm\" of science (empirical, theoretical,  computational and now data-driven) and asserted that \"everything  about science is changing because of the impact of information  technology\" and the data deluge.  <a href=\"/spice/830162/The+First+Collection+Spice/cinnamon+sumac+pepper\"></a></strong></td><td class=\"tal qx\"><strong><a href=\"/spice/22810907/The+Second+Collection/terragon+basil+curry\"></a></strong></td><td class=\"tal qx\"><strong><a href=\"/ingridients/530162/The+First/spaghetti+tomatoes\"></a>'"
      ]
     },
     "execution_count": 21,
     "metadata": {},
     "output_type": "execute_result"
    }
   ],
   "source": [
    "clean_text = text.replace(...,...)\n",
    "clean_text\n"
   ]
  },
  {
   "cell_type": "markdown",
   "metadata": {
    "tags": []
   },
   "source": [
    "5. Lower each character of the clean_text string (*hint*: apply **.lower()** function on clean_text)"
   ]
  },
  {
   "cell_type": "code",
   "execution_count": 75,
   "metadata": {},
   "outputs": [
    {
     "data": {
      "text/plain": [
       "'data science is an inter-disciplinary field that uses  scientific methods, processes, algorithms and systems to extract knowledge and insights from many structural and unstructured  data. data science is related to data mining, machine learning  and big data.  data science is a \"concept to unify statistics, data analysis  and their related methods\" in order to \"understand and analyze  actual phenomena\" with data. it uses techniques and theories  drawn from many fields within the context of mathematics,  statistics, computer science, domain knowledge and information  science. turing award winner jim gray imagined data science as  a \"fourth paradigm\" of science (empirical, theoretical,  computational and now data-driven) and asserted that \"everything  about science is changing because of the impact of information  technology\" and the data deluge.  <a href=\"/spice/830162/the+first+collection+spice/cinnamon+sumac+pepper\"></a></strong></td><td class=\"tal qx\"><strong><a href=\"/spice/22810907/the+second+collection/terragon+basil+curry\"></a></strong></td><td class=\"tal qx\"><strong><a href=\"/ingridients/530162/the+first/spaghetti+tomatoes\"></a>'"
      ]
     },
     "execution_count": 75,
     "metadata": {},
     "output_type": "execute_result"
    }
   ],
   "source": [
    "lowered_clean_text = ...\n",
    "lowered_clean_text"
   ]
  },
  {
   "cell_type": "markdown",
   "metadata": {},
   "source": [
    "6. Get a list of all words. The words are normally separated from each other by space. (*hint*: apply the **.split()** function on the clean_text)"
   ]
  },
  {
   "cell_type": "code",
   "execution_count": 83,
   "metadata": {},
   "outputs": [
    {
     "data": {
      "text/plain": [
       "['Data',\n",
       " 'science',\n",
       " 'is',\n",
       " 'an',\n",
       " 'inter-disciplinary',\n",
       " 'field',\n",
       " 'that',\n",
       " 'uses',\n",
       " 'scientific',\n",
       " 'methods,',\n",
       " 'processes,',\n",
       " 'algorithms',\n",
       " 'and',\n",
       " 'systems',\n",
       " 'to',\n",
       " 'extract',\n",
       " 'knowledge',\n",
       " 'and',\n",
       " 'insights',\n",
       " 'from',\n",
       " 'many',\n",
       " 'structural',\n",
       " 'and',\n",
       " 'unstructured',\n",
       " 'data.',\n",
       " 'Data',\n",
       " 'science',\n",
       " 'is',\n",
       " 'related',\n",
       " 'to',\n",
       " 'data',\n",
       " 'mining,',\n",
       " 'machine',\n",
       " 'learning',\n",
       " 'and',\n",
       " 'big',\n",
       " 'data.',\n",
       " 'Data',\n",
       " 'science',\n",
       " 'is',\n",
       " 'a',\n",
       " '\"concept',\n",
       " 'to',\n",
       " 'unify',\n",
       " 'statistics,',\n",
       " 'data',\n",
       " 'analysis',\n",
       " 'and',\n",
       " 'their',\n",
       " 'related',\n",
       " 'methods\"',\n",
       " 'in',\n",
       " 'order',\n",
       " 'to',\n",
       " '\"understand',\n",
       " 'and',\n",
       " 'analyze',\n",
       " 'actual',\n",
       " 'phenomena\"',\n",
       " 'with',\n",
       " 'data.',\n",
       " 'It',\n",
       " 'uses',\n",
       " 'techniques',\n",
       " 'and',\n",
       " 'theories',\n",
       " 'drawn',\n",
       " 'from',\n",
       " 'many',\n",
       " 'fields',\n",
       " 'within',\n",
       " 'the',\n",
       " 'context',\n",
       " 'of',\n",
       " 'mathematics,',\n",
       " 'statistics,',\n",
       " 'computer',\n",
       " 'science,',\n",
       " 'domain',\n",
       " 'knowledge',\n",
       " 'and',\n",
       " 'information',\n",
       " 'science.',\n",
       " 'Turing',\n",
       " 'award',\n",
       " 'winner',\n",
       " 'Jim',\n",
       " 'Gray',\n",
       " 'imagined',\n",
       " 'data',\n",
       " 'science',\n",
       " 'as',\n",
       " 'a',\n",
       " '\"fourth',\n",
       " 'paradigm\"',\n",
       " 'of',\n",
       " 'science',\n",
       " '(empirical,',\n",
       " 'theoretical,',\n",
       " 'computational',\n",
       " 'and',\n",
       " 'now',\n",
       " 'data-driven)',\n",
       " 'and',\n",
       " 'asserted',\n",
       " 'that',\n",
       " '\"everything',\n",
       " 'about',\n",
       " 'science',\n",
       " 'is',\n",
       " 'changing',\n",
       " 'because',\n",
       " 'of',\n",
       " 'the',\n",
       " 'impact',\n",
       " 'of',\n",
       " 'information',\n",
       " 'technology\"',\n",
       " 'and',\n",
       " 'the',\n",
       " 'data',\n",
       " 'deluge.',\n",
       " '<a',\n",
       " 'href=\"/spice/830162/The+First+Collection+Spice/cinnamon+sumac+pepper\"></a></strong></td><td',\n",
       " 'class=\"tal',\n",
       " 'qx\"><strong><a',\n",
       " 'href=\"/spice/22810907/The+Second+Collection/terragon+basil+curry\"></a></strong></td><td',\n",
       " 'class=\"tal',\n",
       " 'qx\"><strong><a',\n",
       " 'href=\"/ingridients/530162/The+First/spaghetti+tomatoes\"></a>']"
      ]
     },
     "execution_count": 83,
     "metadata": {},
     "output_type": "execute_result"
    }
   ],
   "source": [
    "all_words = ...\n",
    "all_words"
   ]
  },
  {
   "cell_type": "markdown",
   "metadata": {},
   "source": [
    "*As you see above, we would need to do extra cleaning on the text in order to extract the single words without symbols, punctuations ....* "
   ]
  },
  {
   "cell_type": "markdown",
   "metadata": {},
   "source": [
    "**Q**: How would you get all the words \"data\" from clean_text independently from their case? (you don't have to implement any code :) )\n",
    "\n",
    "**A**: ..."
   ]
  },
  {
   "cell_type": "markdown",
   "metadata": {},
   "source": [
    "If you have a list of strings and you want to join them all back into one string you can use the function **\" \".join(your_list)** "
   ]
  },
  {
   "cell_type": "code",
   "execution_count": 96,
   "metadata": {},
   "outputs": [
    {
     "data": {
      "text/plain": [
       "'Data science is an inter-disciplinary field that uses scientific methods, processes, algorithms and systems to extract knowledge and insights from many structural and unstructured data. Data science is related to data mining, machine learning and big data. Data science is a \"concept to unify statistics, data analysis and their related methods\" in order to \"understand and analyze actual phenomena\" with data. It uses techniques and theories drawn from many fields within the context of mathematics, statistics, computer science, domain knowledge and information science. Turing award winner Jim Gray imagined data science as a \"fourth paradigm\" of science (empirical, theoretical, computational and now data-driven) and asserted that \"everything about science is changing because of the impact of information technology\" and the data deluge. <a href=\"/spice/830162/The+First+Collection+Spice/cinnamon+sumac+pepper\"></a></strong></td><td class=\"tal qx\"><strong><a href=\"/spice/22810907/The+Second+Collection/terragon+basil+curry\"></a></strong></td><td class=\"tal qx\"><strong><a href=\"/ingridients/530162/The+First/spaghetti+tomatoes\"></a>'"
      ]
     },
     "execution_count": 96,
     "metadata": {},
     "output_type": "execute_result"
    }
   ],
   "source": [
    "rejoined_words = \" \".join(all_words)\n",
    "rejoined_words"
   ]
  },
  {
   "cell_type": "code",
   "execution_count": 99,
   "metadata": {},
   "outputs": [
    {
     "data": {
      "text/plain": [
       "'Datascienceisaninter-disciplinaryfieldthatusesscientificmethods,processes,algorithmsandsystemstoextractknowledgeandinsightsfrommanystructuralandunstructureddata.Datascienceisrelatedtodatamining,machinelearningandbigdata.Datascienceisa\"concepttounifystatistics,dataanalysisandtheirrelatedmethods\"inorderto\"understandandanalyzeactualphenomena\"withdata.Itusestechniquesandtheoriesdrawnfrommanyfieldswithinthecontextofmathematics,statistics,computerscience,domainknowledgeandinformationscience.TuringawardwinnerJimGrayimagineddatascienceasa\"fourthparadigm\"ofscience(empirical,theoretical,computationalandnowdata-driven)andassertedthat\"everythingaboutscienceischangingbecauseoftheimpactofinformationtechnology\"andthedatadeluge.<ahref=\"/spice/830162/The+First+Collection+Spice/cinnamon+sumac+pepper\"></a></strong></td><tdclass=\"talqx\"><strong><ahref=\"/spice/22810907/The+Second+Collection/terragon+basil+curry\"></a></strong></td><tdclass=\"talqx\"><strong><ahref=\"/ingridients/530162/The+First/spaghetti+tomatoes\"></a>'"
      ]
     },
     "execution_count": 99,
     "metadata": {},
     "output_type": "execute_result"
    }
   ],
   "source": [
    "\"\".join(all_words)"
   ]
  },
  {
   "cell_type": "markdown",
   "metadata": {},
   "source": [
    "## Self-learning Regex \n",
    "+ first 15 lesson on https://regexone.com"
   ]
  },
  {
   "cell_type": "code",
   "execution_count": null,
   "metadata": {},
   "outputs": [],
   "source": []
  }
 ],
 "metadata": {
  "hide_input": false,
  "kernelspec": {
   "display_name": "Python 3 (ipykernel)",
   "language": "python",
   "name": "python3"
  },
  "language_info": {
   "codemirror_mode": {
    "name": "ipython",
    "version": 3
   },
   "file_extension": ".py",
   "mimetype": "text/x-python",
   "name": "python",
   "nbconvert_exporter": "python",
   "pygments_lexer": "ipython3",
   "version": "3.10.8"
  },
  "toc": {
   "base_numbering": 1,
   "nav_menu": {},
   "number_sections": true,
   "sideBar": true,
   "skip_h1_title": true,
   "title_cell": "Table of Contents",
   "title_sidebar": "Contents",
   "toc_cell": false,
   "toc_position": {},
   "toc_section_display": true,
   "toc_window_display": false
  },
  "varInspector": {
   "cols": {
    "lenName": 16,
    "lenType": 16,
    "lenVar": 40
   },
   "kernels_config": {
    "python": {
     "delete_cmd_postfix": "",
     "delete_cmd_prefix": "del ",
     "library": "var_list.py",
     "varRefreshCmd": "print(var_dic_list())"
    },
    "r": {
     "delete_cmd_postfix": ") ",
     "delete_cmd_prefix": "rm(",
     "library": "var_list.r",
     "varRefreshCmd": "cat(var_dic_list()) "
    }
   },
   "types_to_exclude": [
    "module",
    "function",
    "builtin_function_or_method",
    "instance",
    "_Feature"
   ],
   "window_display": false
  }
 },
 "nbformat": 4,
 "nbformat_minor": 4
}
