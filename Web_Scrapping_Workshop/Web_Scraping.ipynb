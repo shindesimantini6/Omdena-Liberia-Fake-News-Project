{
 "cells": [
  {
   "attachments": {},
   "cell_type": "markdown",
   "id": "bde6129c",
   "metadata": {},
   "source": [
    "# Web Scraping"
   ]
  },
  {
   "attachments": {},
   "cell_type": "markdown",
   "id": "12c9d099-6d4c-46ff-bae1-7d2d0bda9228",
   "metadata": {},
   "source": [
    "### What is Web Scraping ?"
   ]
  },
  {
   "attachments": {},
   "cell_type": "markdown",
   "id": "97152c4c",
   "metadata": {},
   "source": [
    "- Extracting `data` from the `internet`.\n",
    "\n",
    "- It is based on the `client/server` scheme."
   ]
  },
  {
   "attachments": {},
   "cell_type": "markdown",
   "id": "d7cb2996",
   "metadata": {},
   "source": [
    "### Why do we need web scraping?"
   ]
  },
  {
   "attachments": {},
   "cell_type": "markdown",
   "id": "de1e27ca",
   "metadata": {},
   "source": [
    "- We need `Data` "
   ]
  },
  {
   "attachments": {},
   "cell_type": "markdown",
   "id": "56493b89",
   "metadata": {},
   "source": [
    "### Is Scraping legal ?"
   ]
  },
  {
   "attachments": {},
   "cell_type": "markdown",
   "id": "c458e369",
   "metadata": {},
   "source": [
    "- Public Websites: `YES`\n",
    "\n",
    "- Others maybe protected by international regulations"
   ]
  },
  {
   "attachments": {},
   "cell_type": "markdown",
   "id": "79572fcc",
   "metadata": {},
   "source": [
    "### Server and Client "
   ]
  },
  {
   "attachments": {
    "image.png": {
     "image/png": "[encoded data removed]"
    }
   },
   "cell_type": "markdown",
   "id": "05a88bb4",
   "metadata": {},
   "source": [
    "![image.png](attachment:image.png)"
   ]
  },
  {
   "attachments": {},
   "cell_type": "markdown",
   "id": "2c6441c1",
   "metadata": {},
   "source": [
    "### Some Terms while web scraping"
   ]
  },
  {
   "attachments": {},
   "cell_type": "markdown",
   "id": "55717a39",
   "metadata": {},
   "source": [
    "\n",
    "- **requests**\n",
    "    - Python library for sending HTTP GET and HTTP POST requests\n",
    "- **Regular Expressions**\n",
    "    - powerful language to find patterns in text\n",
    "- **Scrapy**\n",
    "    - Python library for downloading entire web sites\n",
    "- **BeautifulSoup4**\n",
    "    - Python library for parsing HTML pages\n",
    "- **Unified Resource Locator (URL)**\n",
    "    - address of a website , file or similar\n",
    "- **HyperText Markup Language (HTML)**\n",
    "    - text format in which most web pages are written\n",
    "- **HyperText Transfer Protocol (HTTP)**\n",
    "    - method to send text messages from one computer to another, built on top of TCP/IP\n",
    "- **HTTP GET**\n",
    "    - request for a web page with a size limit\n",
    "- **HTTP POST**\n",
    "    - request for a web page that allows to submit large forms or uploads files\n",
    "- **API**\n",
    "    - generic name for a (web) programming interface\n",
    "- **200**\n",
    "    - response indicating that a web page was successfully delivered\n",
    "- **404 Not Found**\n",
    "    \n",
    "    - response indicating that a web page could not be found\n",
    "    \n",
    "- **400 Bad Request**"
   ]
  },
  {
   "attachments": {},
   "cell_type": "markdown",
   "id": "90d37215-be5f-4a00-8b57-37c6d8efee34",
   "metadata": {
    "jupyter": {
     "source_hidden": true
    },
    "tags": []
   },
   "source": [
    "### How?"
   ]
  },
  {
   "attachments": {},
   "cell_type": "markdown",
   "id": "5f21d368",
   "metadata": {},
   "source": [
    "`requests`\n",
    "<br>\n",
    "> Retrieves webpages.\n",
    "\n",
    "> `requests` sends HTTP requests to web pages and allows you to read their content.\n",
    "\n",
    "> It is a powerful and user-friendly Python library that allows us to send HTTP requests to website/servers and read their content. It sends back a response code, and the full html (if successful).\n",
    "\n",
    ">`requests` can send data to web forms via HTTP GET and POST, submit files and manage cookies.\n"
   ]
  },
  {
   "attachments": {},
   "cell_type": "markdown",
   "id": "a070a56f",
   "metadata": {},
   "source": [
    "### Installing requests"
   ]
  },
  {
   "cell_type": "code",
   "execution_count": null,
   "id": "81771080-509f-434f-9239-07131d6b7fcb",
   "metadata": {},
   "outputs": [],
   "source": [
    "#!conda install -c conda-forge requests -y\n",
    "#or\n",
    "#!pip install requests"
   ]
  },
  {
   "cell_type": "code",
   "execution_count": 1,
   "id": "0a09b62c",
   "metadata": {},
   "outputs": [],
   "source": [
    "import requests"
   ]
  },
  {
   "attachments": {},
   "cell_type": "markdown",
   "id": "d1474770-ac1b-497f-bb97-7c3b517b500e",
   "metadata": {},
   "source": [
    "### Scraping the Spiced Academy web page\n",
    "\n",
    "https://tsmliberia.com/category/fact-check/\n",
    "\n",
    "#### Define url\n",
    "\n"
   ]
  },
  {
   "cell_type": "code",
   "execution_count": 21,
   "id": "6e98d7ae-ad23-40bd-98b9-46f24a664051",
   "metadata": {},
   "outputs": [],
   "source": [
    "URL = \"https://tsmliberia.com/the-post-of-costa-for-president-is-misleading/\""
   ]
  },
  {
   "attachments": {},
   "cell_type": "markdown",
   "id": "7ff0265e-f348-4720-bdd7-7961eee0cf66",
   "metadata": {
    "tags": []
   },
   "source": [
    "#### Send the request and store the response"
   ]
  },
  {
   "cell_type": "code",
   "execution_count": 22,
   "id": "8b228bbd",
   "metadata": {},
   "outputs": [],
   "source": [
    "response = requests.get(url=URL)"
   ]
  },
  {
   "cell_type": "code",
   "execution_count": null,
   "id": "3d9d63ec",
   "metadata": {},
   "outputs": [],
   "source": [
    "\n"
   ]
  },
  {
   "attachments": {},
   "cell_type": "markdown",
   "id": "1eb1d228-eac7-487c-ba36-fb43ba8d1b55",
   "metadata": {},
   "source": [
    "#### Explore the response\n",
    "+ what type of object is it?\n",
    "+ what's the status code?\n",
    "+ what's the encoding?\n",
    "+ what's the actual content i.e. the html text?"
   ]
  },
  {
   "cell_type": "code",
   "execution_count": 23,
   "id": "99437e06-2af0-47cc-8432-6697b264d40b",
   "metadata": {},
   "outputs": [
    {
     "data": {
      "text/plain": [
       "requests.models.Response"
      ]
     },
     "execution_count": 23,
     "metadata": {},
     "output_type": "execute_result"
    }
   ],
   "source": [
    "type(response)"
   ]
  },
  {
   "cell_type": "code",
   "execution_count": 24,
   "id": "918210db-d4cf-4ade-b0fa-9b28ee151bf6",
   "metadata": {},
   "outputs": [
    {
     "data": {
      "text/plain": [
       "200"
      ]
     },
     "execution_count": 24,
     "metadata": {},
     "output_type": "execute_result"
    }
   ],
   "source": [
    "response.status_code"
   ]
  },
  {
   "cell_type": "code",
   "execution_count": 52,
   "id": "dfdedb50-9fe1-4e38-bb7a-ab7f1566d600",
   "metadata": {
    "collapsed": true,
    "jupyter": {
     "outputs_hidden": true
    },
    "tags": []
   },
   "outputs": [],
   "source": [
    "# response.text"
   ]
  },
  {
   "cell_type": "code",
   "execution_count": 26,
   "id": "27f3db8a-9e7a-448c-8357-4ba5ee566e06",
   "metadata": {
    "tags": []
   },
   "outputs": [],
   "source": [
    "fact_check_html = response.text"
   ]
  },
  {
   "cell_type": "code",
   "execution_count": null,
   "id": "0728ece6-5949-47af-b540-781b6bc94107",
   "metadata": {},
   "outputs": [],
   "source": []
  },
  {
   "attachments": {},
   "cell_type": "markdown",
   "id": "0f26dc5c",
   "metadata": {
    "tags": []
   },
   "source": [
    "**What is this output?**\n",
    "\n",
    "It's written in HTML (you don't need to know HTML though to scrape data!)\n",
    "\n",
    "[Nice introduction here](https://developer.mozilla.org/en-US/docs/Learn/Getting_started_with_the_web/HTML_basics)\n",
    "\n",
    "**How is it structured?**\n",
    "\n",
    "HTML consists of a series of *elements*\n",
    "   - The browser displays the content based on the elements\n",
    "   - HTML elements contain information about what each part of the webpage is (eg. an image, a heading, a link, a table, etc)\n",
    "  \n",
    "Each element consists of **tags** (**opening tag** and **closing tag**) and content.\n",
    "\n",
    "Some tags will have **attributes** which are like labels that are not displayed with the content but can help distinguish between different types of the same tag.\n",
    "<br>Important for this week: **a-tags**. \n",
    "\n",
    "This is how links are formatted in HTML: \n",
    "\n",
    "`<a href=\"url-to-the-webpage\">LINK TEXT HERE</a>`"
   ]
  },
  {
   "attachments": {},
   "cell_type": "markdown",
   "id": "b095361b",
   "metadata": {},
   "source": [
    "#### Saving the scraping information to a file to work with later\n",
    "\n",
    "Let's see how we can write in/read in a file in python."
   ]
  },
  {
   "attachments": {},
   "cell_type": "markdown",
   "id": "9b52c731",
   "metadata": {},
   "source": [
    "[open](https://docs.python.org/3/tutorial/inputoutput.html?highlight=open%20library#reading-and-writing-files) built-in python package \n",
    "\n",
    "modes:\n",
    "- `\"w\"`- write / create content to a file\n",
    "- `\"r\"` - read content from a file\n",
    "- `\"a\"`- append content to a file"
   ]
  },
  {
   "attachments": {},
   "cell_type": "markdown",
   "id": "fd40963e",
   "metadata": {},
   "source": [
    "**Write mode**: creates a file if it doesn't exist or overwrites it if it does:"
   ]
  },
  {
   "cell_type": "code",
   "execution_count": 27,
   "id": "ccaf63be-d3b5-4006-b719-b6c8c64b6a7a",
   "metadata": {},
   "outputs": [],
   "source": [
    "filename = \"fact_check_html.txt\""
   ]
  },
  {
   "cell_type": "code",
   "execution_count": 28,
   "id": "968bc750",
   "metadata": {},
   "outputs": [],
   "source": [
    "with open(file=filename, mode=\"w\") as file:\n",
    "    file.write(fact_check_html)"
   ]
  },
  {
   "attachments": {},
   "cell_type": "markdown",
   "id": "cf184a4a",
   "metadata": {},
   "source": [
    "**Read mode**: read only, you can read in a file and save it as a variable in your code or print it"
   ]
  },
  {
   "cell_type": "code",
   "execution_count": 44,
   "id": "f956bb28",
   "metadata": {},
   "outputs": [],
   "source": [
    "with open(file=filename, mode=\"r\") as file:\n",
    "    read_fake_check_html =file.read()"
   ]
  },
  {
   "cell_type": "code",
   "execution_count": 51,
   "id": "581cada7",
   "metadata": {
    "collapsed": true,
    "jupyter": {
     "outputs_hidden": true
    },
    "tags": []
   },
   "outputs": [],
   "source": [
    "# read_fake_check_html"
   ]
  },
  {
   "attachments": {},
   "cell_type": "markdown",
   "id": "a016dc50",
   "metadata": {},
   "source": [
    "**Append mode** adds text to the end of a file without overwriting it."
   ]
  },
  {
   "cell_type": "code",
   "execution_count": 12,
   "id": "a4d5cd77",
   "metadata": {},
   "outputs": [],
   "source": [
    "with open(file=filename, mode=\"a\") as file:\n",
    "    file.write(\"Hello World\")"
   ]
  },
  {
   "attachments": {},
   "cell_type": "markdown",
   "id": "b994e3d9-1752-4ff7-ab34-43ac5a204c45",
   "metadata": {},
   "source": [
    "#### Parsing HTML using BeautifulSoup"
   ]
  },
  {
   "cell_type": "code",
   "execution_count": 32,
   "id": "d512ea0f",
   "metadata": {},
   "outputs": [],
   "source": [
    "from bs4 import BeautifulSoup"
   ]
  },
  {
   "cell_type": "code",
   "execution_count": 50,
   "id": "818c6b5b",
   "metadata": {},
   "outputs": [],
   "source": [
    "parsed_content = BeautifulSoup(markup=read_fake_check_html, features='html.parser')\n",
    "# parsed_content"
   ]
  },
  {
   "cell_type": "code",
   "execution_count": 47,
   "id": "eaeb1f1c",
   "metadata": {},
   "outputs": [
    {
     "data": {
      "text/plain": [
       "<div class=\"td-post-header td-pb-padding-side\">\n",
       "<div class=\"entry-crumbs\"><span><a class=\"entry-crumb\" href=\"https://tsmliberia.com/\" title=\"\">Home</a></span> <i class=\"td-icon-right td-bread-sep\"></i> <span><a class=\"entry-crumb\" href=\"https://tsmliberia.com/category/fact-check/\" title=\"View all posts in Fact Check\">Fact Check</a></span> <i class=\"td-icon-right td-bread-sep\"></i> <span><a class=\"entry-crumb\" href=\"https://tsmliberia.com/category/fact-check/elections-and-data/\" title=\"View all posts in Elections and Data\">Elections and Data</a></span> <i class=\"td-icon-right td-bread-sep td-bred-no-url-last\"></i> <span class=\"td-bred-no-url-last\">The Post of Costa For President is Misleading</span></div>\n",
       "<ul class=\"td-category\"><li class=\"entry-category\"><a href=\"https://tsmliberia.com/category/fact-check/\">Fact Check</a></li><li class=\"entry-category\"><a href=\"https://tsmliberia.com/category/fact-check/elections-and-data/\">Elections and Data</a></li><li class=\"entry-category\"><a href=\"https://tsmliberia.com/category/tsm-top-news/\">TSM Top News</a></li></ul>\n",
       "<header>\n",
       "<h1 class=\"entry-title\">The Post of Costa For President is Misleading</h1>\n",
       "<div class=\"meta-info\">\n",
       "<div class=\"td-post-author-name\"><div class=\"td-author-by\">By</div> <a href=\"https://tsmliberia.com/author/the-stage-media/\">Mark Mengonfia</a><div class=\"td-author-line\"> - </div> </div> <span class=\"td-post-date\"><time class=\"entry-date updated td-module-date\" datetime=\"2023-06-30T14:56:10+00:00\">June 30, 2023</time></span> <div class=\"td-post-views\"><i class=\"td-icon-views\"></i><span class=\"td-nr-views-4419\">8</span></div> <div class=\"td-post-comments\"><a href=\"https://tsmliberia.com/the-post-of-costa-for-president-is-misleading/#respond\"><i class=\"td-icon-comments\"></i>0</a></div> </div>\n",
       "</header>\n",
       "</div>"
      ]
     },
     "execution_count": 47,
     "metadata": {},
     "output_type": "execute_result"
    }
   ],
   "source": [
    "parsed_content.find(name='div', attrs={'class':'td-post-header'})"
   ]
  },
  {
   "cell_type": "code",
   "execution_count": 48,
   "id": "072bf759",
   "metadata": {},
   "outputs": [
    {
     "data": {
      "text/plain": [
       "'The Post of Costa For President is Misleading'"
      ]
     },
     "execution_count": 48,
     "metadata": {},
     "output_type": "execute_result"
    }
   ],
   "source": [
    "(parsed_content\n",
    ".find(name='div', attrs={'class':'td-post-header'})\n",
    ".find(name='h1')\n",
    ".get_text()\n",
    ")"
   ]
  },
  {
   "cell_type": "code",
   "execution_count": 49,
   "id": "fc48f145",
   "metadata": {},
   "outputs": [
    {
     "data": {
      "text/plain": [
       "<img alt=\"\" decoding=\"async\" src=\"https://lh6.googleusercontent.com/GGbw9dQgEs4G4CeCzQ9jRlS0feTEa45u5sF33YzCMzT9G_K5GyaBy2D_TGjMIcn-V2MLL_2AbZxpIy8aIh5Y1NnxYF5HGV-EqMkXgimnO2-2LH6yFwgsoxA9u_Sqe5gwShXb9Xvpg0BaXRZV6XX9SQ\"/>"
      ]
     },
     "execution_count": 49,
     "metadata": {},
     "output_type": "execute_result"
    }
   ],
   "source": [
    "(parsed_content\n",
    ".find(name='figure', attrs={'class':'wp-block-image'})\n",
    ".find(name='img')\n",
    ")"
   ]
  },
  {
   "attachments": {},
   "cell_type": "markdown",
   "id": "9506993e",
   "metadata": {},
   "source": [
    "### Other useful webscraping tools:"
   ]
  },
  {
   "attachments": {},
   "cell_type": "markdown",
   "id": "7301c7a3",
   "metadata": {},
   "source": [
    "\n",
    "- `regex` : Used for searching the text (https://www.w3schools.com/python/python_regex.asp)\n",
    "\n",
    "- `Selenium` : Automatic web scraping (https://pypi.org/project/selenium/)\n",
    "\n",
    "- Difference between requests and web scraping: https://scrapeops.io/python-web-scraping-playbook/python-selenium-vs-python-requests/"
   ]
  },
  {
   "attachments": {},
   "cell_type": "markdown",
   "id": "3edba50f",
   "metadata": {},
   "source": []
  }
 ],
 "metadata": {
  "hide_input": false,
  "kernelspec": {
   "display_name": "Python 3 (ipykernel)",
   "language": "python",
   "name": "python3"
  },
  "language_info": {
   "codemirror_mode": {
    "name": "ipython",
    "version": 3
   },
   "file_extension": ".py",
   "mimetype": "text/x-python",
   "name": "python",
   "nbconvert_exporter": "python",
   "pygments_lexer": "ipython3",
   "version": "3.8.10"
  },
  "toc": {
   "base_numbering": 1,
   "nav_menu": {},
   "number_sections": false,
   "sideBar": true,
   "skip_h1_title": false,
   "title_cell": "Table of Contents",
   "title_sidebar": "Contents",
   "toc_cell": false,
   "toc_position": {},
   "toc_section_display": true,
   "toc_window_display": false
  },
  "varInspector": {
   "cols": {
    "lenName": 16,
    "lenType": 16,
    "lenVar": 40
   },
   "kernels_config": {
    "python": {
     "delete_cmd_postfix": "",
     "delete_cmd_prefix": "del ",
     "library": "var_list.py",
     "varRefreshCmd": "print(var_dic_list())"
    },
    "r": {
     "delete_cmd_postfix": ") ",
     "delete_cmd_prefix": "rm(",
     "library": "var_list.r",
     "varRefreshCmd": "cat(var_dic_list()) "
    }
   },
   "types_to_exclude": [
    "module",
    "function",
    "builtin_function_or_method",
    "instance",
    "_Feature"
   ],
   "window_display": false
  }
 },
 "nbformat": 4,
 "nbformat_minor": 5
}
